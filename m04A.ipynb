{
 "cells": [
  {
   "cell_type": "code",
   "execution_count": null,
   "metadata": {},
   "outputs": [],
   "source": [
    "import zoo\n",
    "zoo.hours()"
   ]
  },
  {
   "cell_type": "code",
   "execution_count": null,
   "metadata": {},
   "outputs": [],
   "source": [
    "import zoo as menagerie\n",
    "menagerie.hours()"
   ]
  },
  {
   "cell_type": "code",
   "execution_count": 27,
   "metadata": {},
   "outputs": [
    {
     "name": "stdout",
     "output_type": "stream",
     "text": [
      "[('Perdido Street Station',), ('Small Gods',), ('The Spellman Files',), ('The Weirdstone of Brisingamen',), ('Thud!',)]\n"
     ]
    }
   ],
   "source": [
    "import sqlalchemy\n",
    "import sqlite3\n",
    "\n",
    "link = sqlite3.connect(\"books.db\")\n",
    "cursor = link.cursor()\n",
    "\n",
    "cursor.execute('''create table books (title text, author text, year integer)''')\n",
    "\n",
    "tableInfo =[\n",
    "(\"The Weirdstone of Brisingamen\",\"Alan Garner\",1960),\n",
    "(\"Perdido Street Station\",\"China Miéville\",2000),\n",
    "(\"Thud!\",\"Terry Pratchett\",2005),\n",
    "(\"The Spellman Files\",\"Lisa Lutz\",2007),\n",
    "(\"Small Gods\",\"Terry Pratchett\",1992)]\n",
    "\n",
    "\n",
    "\n",
    "cursor.executemany(\"insert into books values (?,?,?)\", tableInfo)\n",
    "\n",
    "cursor.execute(\"select title from books order by title asc\")\n",
    "findBook=cursor.fetchall()\n",
    "print(findBook)\n",
    "    \n",
    "link.close()\n"
   ]
  },
  {
   "cell_type": "code",
   "execution_count": null,
   "metadata": {},
   "outputs": [],
   "source": []
  }
 ],
 "metadata": {
  "kernelspec": {
   "display_name": "Python 3 (ipykernel)",
   "language": "python",
   "name": "python3"
  },
  "language_info": {
   "codemirror_mode": {
    "name": "ipython",
    "version": 3
   },
   "file_extension": ".py",
   "mimetype": "text/x-python",
   "name": "python",
   "nbconvert_exporter": "python",
   "pygments_lexer": "ipython3",
   "version": "3.9.12"
  }
 },
 "nbformat": 4,
 "nbformat_minor": 2
}
