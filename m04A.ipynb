{
 "cells": [
  {
   "cell_type": "code",
   "execution_count": null,
   "metadata": {},
   "outputs": [],
   "source": [
    "import zoo\n",
    "zoo.hours()"
   ]
  },
  {
   "cell_type": "code",
   "execution_count": null,
   "metadata": {},
   "outputs": [],
   "source": [
    "import zoo as menagerie\n",
    "menagerie.hours()"
   ]
  },
  {
   "cell_type": "code",
   "execution_count": 22,
   "metadata": {},
   "outputs": [
    {
     "ename": "OperationalError",
     "evalue": "table books already exists",
     "output_type": "error",
     "traceback": [
      "\u001b[0;31m---------------------------------------------------------------------------\u001b[0m",
      "\u001b[0;31mOperationalError\u001b[0m                          Traceback (most recent call last)",
      "Input \u001b[0;32mIn [22]\u001b[0m, in \u001b[0;36m<cell line: 7>\u001b[0;34m()\u001b[0m\n\u001b[1;32m      4\u001b[0m link \u001b[38;5;241m=\u001b[39m sqlite3\u001b[38;5;241m.\u001b[39mconnect(\u001b[38;5;124m\"\u001b[39m\u001b[38;5;124mbooks.db\u001b[39m\u001b[38;5;124m\"\u001b[39m)\n\u001b[1;32m      5\u001b[0m cursor \u001b[38;5;241m=\u001b[39m link\u001b[38;5;241m.\u001b[39mcursor()\n\u001b[0;32m----> 7\u001b[0m \u001b[43mcursor\u001b[49m\u001b[38;5;241;43m.\u001b[39;49m\u001b[43mexecute\u001b[49m\u001b[43m(\u001b[49m\u001b[38;5;124;43m'''\u001b[39;49m\u001b[38;5;124;43mcreate table books (title text, author text, year integer)\u001b[39;49m\u001b[38;5;124;43m'''\u001b[39;49m\u001b[43m)\u001b[49m\n\u001b[1;32m      9\u001b[0m tableInfo \u001b[38;5;241m=\u001b[39m[\n\u001b[1;32m     10\u001b[0m (\u001b[38;5;124m\"\u001b[39m\u001b[38;5;124mThe Weirdstone of Brisingamen\u001b[39m\u001b[38;5;124m\"\u001b[39m,\u001b[38;5;124m\"\u001b[39m\u001b[38;5;124mAlan Garner\u001b[39m\u001b[38;5;124m\"\u001b[39m,\u001b[38;5;241m1960\u001b[39m),\n\u001b[1;32m     11\u001b[0m (\u001b[38;5;124m\"\u001b[39m\u001b[38;5;124mPerdido Street Station\u001b[39m\u001b[38;5;124m\"\u001b[39m,\u001b[38;5;124m\"\u001b[39m\u001b[38;5;124mChina Miéville\u001b[39m\u001b[38;5;124m\"\u001b[39m,\u001b[38;5;241m2000\u001b[39m),\n\u001b[1;32m     12\u001b[0m (\u001b[38;5;124m\"\u001b[39m\u001b[38;5;124mThud!\u001b[39m\u001b[38;5;124m\"\u001b[39m,\u001b[38;5;124m\"\u001b[39m\u001b[38;5;124mTerry Pratchett\u001b[39m\u001b[38;5;124m\"\u001b[39m,\u001b[38;5;241m2005\u001b[39m),\n\u001b[1;32m     13\u001b[0m (\u001b[38;5;124m\"\u001b[39m\u001b[38;5;124mThe Spellman Files\u001b[39m\u001b[38;5;124m\"\u001b[39m,\u001b[38;5;124m\"\u001b[39m\u001b[38;5;124mLisa Lutz\u001b[39m\u001b[38;5;124m\"\u001b[39m,\u001b[38;5;241m2007\u001b[39m),\n\u001b[1;32m     14\u001b[0m (\u001b[38;5;124m\"\u001b[39m\u001b[38;5;124mSmall Gods\u001b[39m\u001b[38;5;124m\"\u001b[39m,\u001b[38;5;124m\"\u001b[39m\u001b[38;5;124mTerry Pratchett\u001b[39m\u001b[38;5;124m\"\u001b[39m,\u001b[38;5;241m1992\u001b[39m)]\n\u001b[1;32m     18\u001b[0m cursor\u001b[38;5;241m.\u001b[39mexecutemany(\u001b[38;5;124m\"\u001b[39m\u001b[38;5;124minsert into books values (? ? ?)\u001b[39m\u001b[38;5;124m\"\u001b[39m, tableInfo)\n",
      "\u001b[0;31mOperationalError\u001b[0m: table books already exists"
     ]
    }
   ],
   "source": [
    "import sqlalchemy\n",
    "import sqlite3\n",
    "\n",
    "link = sqlite3.connect(\"books.db\")\n",
    "cursor = link.cursor()\n",
    "\n",
    "cursor.execute('''create table books (title text, author text, year integer)''')\n",
    "\n",
    "tableInfo =[\n",
    "(\"The Weirdstone of Brisingamen\",\"Alan Garner\",1960),\n",
    "(\"Perdido Street Station\",\"China Miéville\",2000),\n",
    "(\"Thud!\",\"Terry Pratchett\",2005),\n",
    "(\"The Spellman Files\",\"Lisa Lutz\",2007),\n",
    "(\"Small Gods\",\"Terry Pratchett\",1992)]\n",
    "\n",
    "\n",
    "\n",
    "cursor.executemany(\"insert into books values (?,?,?)\", tableInfo)\n",
    "\n",
    "cursor.execute(\"select title from books order by title asc\")\n",
    "findBook=cursor.fetchall()\n",
    "print(findBook)\n",
    "    \n",
    "link.close()\n"
   ]
  },
  {
   "cell_type": "code",
   "execution_count": null,
   "metadata": {},
   "outputs": [],
   "source": []
  }
 ],
 "metadata": {
  "kernelspec": {
   "display_name": "Python 3 (ipykernel)",
   "language": "python",
   "name": "python3"
  },
  "language_info": {
   "codemirror_mode": {
    "name": "ipython",
    "version": 3
   },
   "file_extension": ".py",
   "mimetype": "text/x-python",
   "name": "python",
   "nbconvert_exporter": "python",
   "pygments_lexer": "ipython3",
   "version": "3.9.12"
  }
 },
 "nbformat": 4,
 "nbformat_minor": 2
}
